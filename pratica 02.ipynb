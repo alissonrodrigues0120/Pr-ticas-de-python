{
 "cells": [
  {
   "cell_type": "code",
   "execution_count": 18,
   "metadata": {},
   "outputs": [
    {
     "name": "stdout",
     "output_type": "stream",
     "text": [
      "['The Holy Grail', 'The LIfe of Brian', 'The Meaning of Life']\n",
      "3\n",
      "['The Holy Grail', 'The LIfe of Brian', 'The Meaning of Life', 'Deadpool']\n",
      "['The Holy Grail', 'The LIfe of Brian', 'The Meaning of Life']\n",
      "['The Holy Grail', 'The LIfe of Brian', 'The Meaning of Life', 'Deadpool', 'Demon Slayer: Mugen Train', 'One Piece: Red', 'Jujutsu Kaisen 0']\n",
      "['The Holy Grail', 'The LIfe of Brian', 'The Meaning of Life', 'Deadpool', 'Demon Slayer: Mugen Train', 'Jujutsu Kaisen 0']\n",
      "['The Holy Grail', 'The LIfe of Brian', 'The Meaning of Life', 'One Piece: Red', 'Deadpool', 'Demon Slayer: Mugen Train', 'Jujutsu Kaisen 0']\n"
     ]
    }
   ],
   "source": [
    "movies=[\"The Holy Grail\", \"The LIfe of Brian\", \"The Meaning of Life\"]\n",
    "print(movies)\n",
    "print(len(movies))\n",
    "movies.append(\"Deadpool\")\n",
    "print(movies)\n",
    "movies.pop()\n",
    "print(movies)\n",
    "movies.extend([\"Deadpool\", \"Demon Slayer: Mugen Train\", \"One Piece: Red\", \"Jujutsu Kaisen 0\"])\n",
    "print(movies)\n",
    "movies.remove(\"One Piece: Red\")\n",
    "print(movies)\n",
    "movies.insert(3, \"One Piece: Red\")\n",
    "print(movies)\n",
    "\n"
   ]
  }
 ],
 "metadata": {
  "interpreter": {
   "hash": "916dbcbb3f70747c44a77c7bcd40155683ae19c65e1c03b4aa3499c5328201f1"
  },
  "kernelspec": {
   "display_name": "Python 3.8.10 64-bit",
   "language": "python",
   "name": "python3"
  },
  "language_info": {
   "codemirror_mode": {
    "name": "ipython",
    "version": 3
   },
   "file_extension": ".py",
   "mimetype": "text/x-python",
   "name": "python",
   "nbconvert_exporter": "python",
   "pygments_lexer": "ipython3",
   "version": "3.8.10"
  },
  "orig_nbformat": 4
 },
 "nbformat": 4,
 "nbformat_minor": 2
}
