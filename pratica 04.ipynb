{
 "cells": [
  {
   "cell_type": "code",
   "execution_count": 3,
   "metadata": {},
   "outputs": [
    {
     "name": "stdout",
     "output_type": "stream",
     "text": [
      "Akira\n",
      "Koe no Katachi\n",
      "Akira\n",
      "Koe no Katachi\n"
     ]
    }
   ],
   "source": [
    "filmesfavoritos= [\"Akira\", \"Koe no Katachi\"]\n",
    "\n",
    "for everbody in filmesfavoritos:\n",
    "    print(everbody)\n",
    "\n",
    "contador =0\n",
    "while contador < len(filmesfavoritos):\n",
    "    print(filmesfavoritos[contador])\n",
    "    contador= contador + 1"
   ]
  }
 ],
 "metadata": {
  "interpreter": {
   "hash": "916dbcbb3f70747c44a77c7bcd40155683ae19c65e1c03b4aa3499c5328201f1"
  },
  "kernelspec": {
   "display_name": "Python 3.8.10 64-bit",
   "language": "python",
   "name": "python3"
  },
  "language_info": {
   "codemirror_mode": {
    "name": "ipython",
    "version": 3
   },
   "file_extension": ".py",
   "mimetype": "text/x-python",
   "name": "python",
   "nbconvert_exporter": "python",
   "pygments_lexer": "ipython3",
   "version": "3.8.10"
  },
  "orig_nbformat": 4
 },
 "nbformat": 4,
 "nbformat_minor": 2
}
